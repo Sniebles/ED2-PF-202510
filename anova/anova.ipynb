{
 "cells": [
  {
   "cell_type": "code",
   "execution_count": 56,
   "id": "39220099",
   "metadata": {},
   "outputs": [
    {
     "data": {
      "text/html": [
       "<div>\n",
       "<style scoped>\n",
       "    .dataframe tbody tr th:only-of-type {\n",
       "        vertical-align: middle;\n",
       "    }\n",
       "\n",
       "    .dataframe tbody tr th {\n",
       "        vertical-align: top;\n",
       "    }\n",
       "\n",
       "    .dataframe thead th {\n",
       "        text-align: right;\n",
       "    }\n",
       "</style>\n",
       "<table border=\"1\" class=\"dataframe\">\n",
       "  <thead>\n",
       "    <tr style=\"text-align: right;\">\n",
       "      <th></th>\n",
       "      <th>Algorithm</th>\n",
       "      <th>Runtime</th>\n",
       "    </tr>\n",
       "  </thead>\n",
       "  <tbody>\n",
       "    <tr>\n",
       "      <th>0</th>\n",
       "      <td>CubeSort</td>\n",
       "      <td>21.450939</td>\n",
       "    </tr>\n",
       "    <tr>\n",
       "      <th>1</th>\n",
       "      <td>CubeSort</td>\n",
       "      <td>33.906315</td>\n",
       "    </tr>\n",
       "    <tr>\n",
       "      <th>2</th>\n",
       "      <td>CubeSort</td>\n",
       "      <td>33.300251</td>\n",
       "    </tr>\n",
       "    <tr>\n",
       "      <th>3</th>\n",
       "      <td>CubeSort</td>\n",
       "      <td>33.021030</td>\n",
       "    </tr>\n",
       "    <tr>\n",
       "      <th>4</th>\n",
       "      <td>CubeSort</td>\n",
       "      <td>31.959818</td>\n",
       "    </tr>\n",
       "  </tbody>\n",
       "</table>\n",
       "</div>"
      ],
      "text/plain": [
       "  Algorithm    Runtime\n",
       "0  CubeSort  21.450939\n",
       "1  CubeSort  33.906315\n",
       "2  CubeSort  33.300251\n",
       "3  CubeSort  33.021030\n",
       "4  CubeSort  31.959818"
      ]
     },
     "execution_count": 56,
     "metadata": {},
     "output_type": "execute_result"
    }
   ],
   "source": [
    "import pandas as pd\n",
    "\n",
    "arr = []\n",
    "# arr.append(pd.read_csv('../data files/results/CubeSort.csv'))\n",
    "# arr.append(pd.read_csv('../data files/results/QuickSort.csv'))\n",
    "# arr.append(pd.read_csv('../data files/results/MergeSort.csv'))\n",
    "# arr.append(pd.read_csv('../data files/results/HeapSort.csv'))\n",
    "arr.append(pd.read_csv(\"temp.csv\"))\n",
    "df = pd.concat(arr,ignore_index=True)\n",
    "\n",
    "df.head()"
   ]
  },
  {
   "cell_type": "code",
   "execution_count": 57,
   "id": "9dcf1ed2",
   "metadata": {},
   "outputs": [
    {
     "data": {
      "image/png": "[encoded data removed]",
      "text/plain": [
       "<Figure size 640x480 with 1 Axes>"
      ]
     },
     "metadata": {},
     "output_type": "display_data"
    }
   ],
   "source": [
    "import matplotlib.pyplot as plt\n",
    "df.boxplot(column=\"Runtime\", by=\"Algorithm\")\n",
    "plt.show()"
   ]
  },
  {
   "cell_type": "markdown",
   "id": "8372821b",
   "metadata": {},
   "source": [
    "Hipótesis H_0: El promedio del tiempo de ejecución para los 4 algoritmos es el mismo"
   ]
  },
  {
   "cell_type": "code",
   "execution_count": 61,
   "id": "c600ac10",
   "metadata": {},
   "outputs": [
    {
     "name": "stdout",
     "output_type": "stream",
     "text": [
      "Shapiro-Wilk for CubeSort group: stat=0.7866390989760017, p-value=0.003427805506126604\n",
      "Shapiro-Wilk for QuickSort group: stat=0.9283762546550055, p-value=0.28951326585706816\n",
      "Shapiro-Wilk for MergeSort group: stat=0.8822723430326738, p-value=0.06261867960078317\n",
      "Shapiro-Wilk for HeapSort group: stat=0.8363406116120272, p-value=0.01456664146048769\n",
      "Levene test for all four groups: stat=28.60585892045861, p-value=4.5943581760277816e-11\n"
     ]
    }
   ],
   "source": [
    "# Verificación de supuestos de distribución normal y homogeneidad de varianzas\n",
    "import scipy.stats\n",
    "SIGNIFICANCE = 0.05\n",
    "normal_distributions = True\n",
    "homogeneous_variances = True\n",
    "\n",
    "ss = []\n",
    "for algo in [\"CubeSort\",\"QuickSort\",\"MergeSort\",\"HeapSort\"]:\n",
    "  subset = df.loc[df['Algorithm'] == algo, 'Runtime']\n",
    "  ss.append(subset)\n",
    "  stat, p_value = scipy.stats.shapiro(subset)\n",
    "  print(f\"Shapiro-Wilk for {algo} group: stat={stat}, p-value={p_value}\")\n",
    "  if p_value < SIGNIFICANCE:\n",
    "    normal_distributions == False\n",
    "\n",
    "stat, p_value = scipy.stats.levene(ss[0],ss[1],ss[2],ss[3])\n",
    "print(f\"Levene test for all four groups: stat={stat}, p-value={p_value}\")\n",
    "if p_value < SIGNIFICANCE:\n",
    "  homogeneous_variances = False"
   ]
  },
  {
   "cell_type": "code",
   "execution_count": null,
   "id": "cfebb0e9",
   "metadata": {},
   "outputs": [
    {
     "name": "stdout",
     "output_type": "stream",
     "text": [
      "Kruskal-Wallis test for algorithm runtimes: H-stat=35.518796992481185, p-value=9.464738771695563e-08\n"
     ]
    }
   ],
   "source": [
    "# Anova o alternativas\n",
    "null_hypothesis = True\n",
    "if normal_distributions and homogeneous_variances:\n",
    "  f_stat, p_value = scipy.stats.f_oneway(ss[0],ss[1],ss[2],ss[3])\n",
    "  print(f\"ANOVA for algorithm runtimes: f-stat={f_stat}, p-value={p_value}\")\n",
    "else: # todo: Implement Welch's ANOVA\n",
    "  h_stat, p_value = scipy.stats.kruskal(ss[0],ss[1],ss[2],ss[3])\n",
    "  print(f\"Kruskal-Wallis test for algorithm runtimes: H-stat={h_stat}, p-value={p_value}\")\n",
    "\n",
    "  \n",
    "if p_value < SIGNIFICANCE:\n",
    "  null_hypothesis = False"
   ]
  },
  {
   "cell_type": "code",
   "execution_count": null,
   "id": "df5902b1",
   "metadata": {},
   "outputs": [],
   "source": [
    "# Post hoc tests\n",
    "if not null_hypothesis:\n",
    "  if normal_distributions:\n",
    "    scipy.stats.tukey_hsd(ss[0],ss[1],ss[2],ss[3])\n",
    "  else:\n",
    "    # todo: Implement Bonferroni correction\n",
    "    pass"
   ]
  },
  {
   "cell_type": "code",
   "execution_count": 34,
   "id": "a6d686fa",
   "metadata": {},
   "outputs": [],
   "source": [
    "df.to_csv(\"dump.csv\",index=False)"
   ]
  }
 ],
 "metadata": {
  "kernelspec": {
   "display_name": "ed2",
   "language": "python",
   "name": "python3"
  },
  "language_info": {
   "codemirror_mode": {
    "name": "ipython",
    "version": 3
   },
   "file_extension": ".py",
   "mimetype": "text/x-python",
   "name": "python",
   "nbconvert_exporter": "python",
   "pygments_lexer": "ipython3",
   "version": "3.10.16"
  }
 },
 "nbformat": 4,
 "nbformat_minor": 5
}
