{
 "cells": [
  {
   "cell_type": "code",
   "execution_count": null,
   "id": "3fdbb764",
   "metadata": {},
   "outputs": [],
   "source": [
    "import pandas as pd\n",
    "df = pd.read_csv(\"dump.csv\")\n",
    "df.head()"
   ]
  },
  {
   "cell_type": "code",
   "execution_count": null,
   "id": "39220099",
   "metadata": {},
   "outputs": [
    {
     "data": {
      "text/html": [
       "<div>\n",
       "<style scoped>\n",
       "    .dataframe tbody tr th:only-of-type {\n",
       "        vertical-align: middle;\n",
       "    }\n",
       "\n",
       "    .dataframe tbody tr th {\n",
       "        vertical-align: top;\n",
       "    }\n",
       "\n",
       "    .dataframe thead th {\n",
       "        text-align: right;\n",
       "    }\n",
       "</style>\n",
       "<table border=\"1\" class=\"dataframe\">\n",
       "  <thead>\n",
       "    <tr style=\"text-align: right;\">\n",
       "      <th></th>\n",
       "      <th>Algorithm</th>\n",
       "      <th>Runtime</th>\n",
       "    </tr>\n",
       "  </thead>\n",
       "  <tbody>\n",
       "    <tr>\n",
       "      <th>0</th>\n",
       "      <td>CubeSort</td>\n",
       "      <td>3.989099</td>\n",
       "    </tr>\n",
       "    <tr>\n",
       "      <th>1</th>\n",
       "      <td>CubeSort</td>\n",
       "      <td>5.498144</td>\n",
       "    </tr>\n",
       "    <tr>\n",
       "      <th>2</th>\n",
       "      <td>CubeSort</td>\n",
       "      <td>5.464906</td>\n",
       "    </tr>\n",
       "    <tr>\n",
       "      <th>3</th>\n",
       "      <td>CubeSort</td>\n",
       "      <td>5.503226</td>\n",
       "    </tr>\n",
       "    <tr>\n",
       "      <th>4</th>\n",
       "      <td>CubeSort</td>\n",
       "      <td>5.529292</td>\n",
       "    </tr>\n",
       "  </tbody>\n",
       "</table>\n",
       "</div>"
      ],
      "text/plain": [
       "  Algorithm   Runtime\n",
       "0  CubeSort  3.989099\n",
       "1  CubeSort  5.498144\n",
       "2  CubeSort  5.464906\n",
       "3  CubeSort  5.503226\n",
       "4  CubeSort  5.529292"
      ]
     },
     "execution_count": 22,
     "metadata": {},
     "output_type": "execute_result"
    }
   ],
   "source": [
    "import pandas as pd\n",
    "\n",
    "arr = []\n",
    "arr.append(pd.read_csv('../data files/results/CubeSort.csv'))\n",
    "arr.append(pd.read_csv('../data files/results/QuickSort.csv'))\n",
    "arr.append(pd.read_csv('../data files/results/MergeSort.csv'))\n",
    "arr.append(pd.read_csv('../data files/results/HeapSort.csv'))\n",
    "\n",
    "df = pd.concat(arr,ignore_index=True)\n",
    "\n",
    "df.head()"
   ]
  },
  {
   "cell_type": "code",
   "execution_count": 23,
   "id": "9dcf1ed2",
   "metadata": {},
   "outputs": [
    {
     "data": {
      "image/png": "[encoded data removed]",
      "text/plain": [
       "<Figure size 640x480 with 1 Axes>"
      ]
     },
     "metadata": {},
     "output_type": "display_data"
    }
   ],
   "source": [
    "import matplotlib.pyplot as plt\n",
    "df.boxplot(column=\"Runtime\", by=\"Algorithm\")\n",
    "plt.show()"
   ]
  },
  {
   "cell_type": "markdown",
   "id": "8372821b",
   "metadata": {},
   "source": [
    "Hipótesis H_0: El promedio del tiempo de ejecución para los 4 algoritmos es el mismo"
   ]
  },
  {
   "cell_type": "code",
   "execution_count": 24,
   "id": "c600ac10",
   "metadata": {},
   "outputs": [
    {
     "name": "stdout",
     "output_type": "stream",
     "text": [
      "Shapiro-Wilk for CubeSort group: stat=0.8893746141483039, p-value=4.6246978348670115e-07\n",
      "Shapiro-Wilk for QuickSort group: stat=0.9113387676892822, p-value=5.027551864548044e-06\n",
      "Shapiro-Wilk for MergeSort group: stat=0.9413583762288623, p-value=0.00023353945073353356\n",
      "Shapiro-Wilk for HeapSort group: stat=0.9517306899141734, p-value=0.0010805331247415726\n",
      "Levene test for all four groups: stat=49.67960933102417, p-value=2.843996146959575e-27\n"
     ]
    }
   ],
   "source": [
    "# Verificación de supuestos de distribución normal y homogeneidad de varianzas\n",
    "import scipy.stats\n",
    "SIGNIFICANCE = 0.05\n",
    "normal_distributions = True\n",
    "homogeneous_variances = True\n",
    "\n",
    "ss = []\n",
    "for algo in [\"CubeSort\",\"QuickSort\",\"MergeSort\",\"HeapSort\"]:\n",
    "  subset = df.loc[df['Algorithm'] == algo, 'Runtime']\n",
    "  ss.append(subset)\n",
    "  stat, p_value = scipy.stats.shapiro(subset)\n",
    "  print(f\"Shapiro-Wilk for {algo} group: stat={stat}, p-value={p_value}\")\n",
    "  if p_value < SIGNIFICANCE:\n",
    "    normal_distributions = False\n",
    "\n",
    "stat, p_value = scipy.stats.levene(ss[0],ss[1],ss[2],ss[3])\n",
    "print(f\"Levene test for all four groups: stat={stat}, p-value={p_value}\")\n",
    "if p_value < SIGNIFICANCE:\n",
    "  homogeneous_variances = False"
   ]
  },
  {
   "cell_type": "code",
   "execution_count": 25,
   "id": "cfebb0e9",
   "metadata": {},
   "outputs": [
    {
     "name": "stdout",
     "output_type": "stream",
     "text": [
      "Kruskal-Wallis test for algorithm runtimes: H-stat=373.43904837905234, p-value=1.2529946888037392e-80\n"
     ]
    }
   ],
   "source": [
    "# Anova o alternativas\n",
    "null_hypothesis = True\n",
    "if normal_distributions and homogeneous_variances:\n",
    "  f_stat, p_value = scipy.stats.f_oneway(ss[0],ss[1],ss[2],ss[3])\n",
    "  print(f\"ANOVA for algorithm runtimes: f-stat={f_stat}, p-value={p_value}\")\n",
    "else: # todo: Implement Welch's ANOVA\n",
    "  h_stat, p_value = scipy.stats.kruskal(ss[0],ss[1],ss[2],ss[3])\n",
    "  print(f\"Kruskal-Wallis test for algorithm runtimes: H-stat={h_stat}, p-value={p_value}\")\n",
    "\n",
    "  \n",
    "if p_value < SIGNIFICANCE:\n",
    "  null_hypothesis = False"
   ]
  },
  {
   "cell_type": "code",
   "execution_count": 26,
   "id": "df5902b1",
   "metadata": {},
   "outputs": [
    {
     "name": "stdout",
     "output_type": "stream",
     "text": [
      "               CubeSort      HeapSort     MergeSort     QuickSort\n",
      "CubeSort   1.000000e+00  2.045424e-74  1.722236e-33  4.896369e-09\n",
      "HeapSort   2.045424e-74  1.000000e+00  4.896369e-09  1.722236e-33\n",
      "MergeSort  1.722236e-33  4.896369e-09  1.000000e+00  7.931571e-09\n",
      "QuickSort  4.896369e-09  1.722236e-33  7.931571e-09  1.000000e+00\n"
     ]
    }
   ],
   "source": [
    "# Post hoc tests\n",
    "if not null_hypothesis:\n",
    "  if normal_distributions:\n",
    "    scipy.stats.tukey_hsd(ss[0],ss[1],ss[2],ss[3])\n",
    "  else:\n",
    "    import scikit_posthocs\n",
    "    p_values = scikit_posthocs.posthoc_dunn(df, val_col=\"Runtime\", group_col=\"Algorithm\", p_adjust=\"bonferroni\")\n",
    "    print(p_values)"
   ]
  },
  {
   "cell_type": "markdown",
   "id": "3949665f",
   "metadata": {},
   "source": [
    "Para cada par que tenga un valor p menor que el nivel de significancia trabajado de 5%, se rechaza la hipótesis nula de la prueba de Dunn que señala que el tiempo de ejecución medio entre ambos algoritmos es igual.\n",
    "\n",
    "A partir de la prueba de Dunn como prueba post hoc a Kruskal-Walliz con corrección de Bonferroni para controlar los falsos positivos, todos los algoritmos tienen medias diferentes por factores no atribuibles al azar."
   ]
  },
  {
   "cell_type": "code",
   "execution_count": null,
   "id": "a6d686fa",
   "metadata": {},
   "outputs": [],
   "source": [
    "# df.to_csv(\"dump.csv\",index=False)"
   ]
  }
 ],
 "metadata": {
  "kernelspec": {
   "display_name": "ed2",
   "language": "python",
   "name": "python3"
  },
  "language_info": {
   "codemirror_mode": {
    "name": "ipython",
    "version": 3
   },
   "file_extension": ".py",
   "mimetype": "text/x-python",
   "name": "python",
   "nbconvert_exporter": "python",
   "pygments_lexer": "ipython3",
   "version": "3.10.16"
  }
 },
 "nbformat": 4,
 "nbformat_minor": 5
}
